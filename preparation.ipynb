{
 "cells": [
  {
   "cell_type": "markdown",
   "metadata": {},
   "source": [
    "# PREPARATION DES DONNÉES"
   ]
  },
  {
   "cell_type": "code",
   "execution_count": 1,
   "metadata": {},
   "outputs": [],
   "source": [
    "import pandas as pd"
   ]
  },
  {
   "cell_type": "markdown",
   "metadata": {},
   "source": [
    "Dans ce Jupyter, nous allons importer le fichier revenus.csv et le modifier afin d'obtenir les différents fichiers de données nécessaire pour l'entraînement de nos modèles."
   ]
  },
  {
   "cell_type": "code",
   "execution_count": 2,
   "metadata": {},
   "outputs": [
    {
     "data": {
      "text/html": [
       "<div>\n",
       "<style scoped>\n",
       "    .dataframe tbody tr th:only-of-type {\n",
       "        vertical-align: middle;\n",
       "    }\n",
       "\n",
       "    .dataframe tbody tr th {\n",
       "        vertical-align: top;\n",
       "    }\n",
       "\n",
       "    .dataframe thead th {\n",
       "        text-align: right;\n",
       "    }\n",
       "</style>\n",
       "<table border=\"1\" class=\"dataframe\">\n",
       "  <thead>\n",
       "    <tr style=\"text-align: right;\">\n",
       "      <th></th>\n",
       "      <th>age</th>\n",
       "      <th>workclass</th>\n",
       "      <th>fnlwgt</th>\n",
       "      <th>education</th>\n",
       "      <th>educational-num</th>\n",
       "      <th>marital-status</th>\n",
       "      <th>occupation</th>\n",
       "      <th>relationship</th>\n",
       "      <th>race</th>\n",
       "      <th>gender</th>\n",
       "      <th>capital-gain</th>\n",
       "      <th>capital-loss</th>\n",
       "      <th>hours-per-week</th>\n",
       "      <th>native-country</th>\n",
       "      <th>income</th>\n",
       "    </tr>\n",
       "  </thead>\n",
       "  <tbody>\n",
       "    <tr>\n",
       "      <th>0</th>\n",
       "      <td>25</td>\n",
       "      <td>Private</td>\n",
       "      <td>226802</td>\n",
       "      <td>11th</td>\n",
       "      <td>7</td>\n",
       "      <td>Never-married</td>\n",
       "      <td>Machine-op-inspct</td>\n",
       "      <td>Own-child</td>\n",
       "      <td>Black</td>\n",
       "      <td>Male</td>\n",
       "      <td>0</td>\n",
       "      <td>0</td>\n",
       "      <td>40</td>\n",
       "      <td>United-States</td>\n",
       "      <td>&lt;=50K</td>\n",
       "    </tr>\n",
       "    <tr>\n",
       "      <th>1</th>\n",
       "      <td>38</td>\n",
       "      <td>Private</td>\n",
       "      <td>89814</td>\n",
       "      <td>HS-grad</td>\n",
       "      <td>9</td>\n",
       "      <td>Married-civ-spouse</td>\n",
       "      <td>Farming-fishing</td>\n",
       "      <td>Husband</td>\n",
       "      <td>White</td>\n",
       "      <td>Male</td>\n",
       "      <td>0</td>\n",
       "      <td>0</td>\n",
       "      <td>50</td>\n",
       "      <td>United-States</td>\n",
       "      <td>&lt;=50K</td>\n",
       "    </tr>\n",
       "    <tr>\n",
       "      <th>2</th>\n",
       "      <td>28</td>\n",
       "      <td>Local-gov</td>\n",
       "      <td>336951</td>\n",
       "      <td>Assoc-acdm</td>\n",
       "      <td>12</td>\n",
       "      <td>Married-civ-spouse</td>\n",
       "      <td>Protective-serv</td>\n",
       "      <td>Husband</td>\n",
       "      <td>White</td>\n",
       "      <td>Male</td>\n",
       "      <td>0</td>\n",
       "      <td>0</td>\n",
       "      <td>40</td>\n",
       "      <td>United-States</td>\n",
       "      <td>&gt;50K</td>\n",
       "    </tr>\n",
       "    <tr>\n",
       "      <th>3</th>\n",
       "      <td>44</td>\n",
       "      <td>Private</td>\n",
       "      <td>160323</td>\n",
       "      <td>Some-college</td>\n",
       "      <td>10</td>\n",
       "      <td>Married-civ-spouse</td>\n",
       "      <td>Machine-op-inspct</td>\n",
       "      <td>Husband</td>\n",
       "      <td>Black</td>\n",
       "      <td>Male</td>\n",
       "      <td>7688</td>\n",
       "      <td>0</td>\n",
       "      <td>40</td>\n",
       "      <td>United-States</td>\n",
       "      <td>&gt;50K</td>\n",
       "    </tr>\n",
       "    <tr>\n",
       "      <th>4</th>\n",
       "      <td>18</td>\n",
       "      <td>?</td>\n",
       "      <td>103497</td>\n",
       "      <td>Some-college</td>\n",
       "      <td>10</td>\n",
       "      <td>Never-married</td>\n",
       "      <td>?</td>\n",
       "      <td>Own-child</td>\n",
       "      <td>White</td>\n",
       "      <td>Female</td>\n",
       "      <td>0</td>\n",
       "      <td>0</td>\n",
       "      <td>30</td>\n",
       "      <td>United-States</td>\n",
       "      <td>&lt;=50K</td>\n",
       "    </tr>\n",
       "  </tbody>\n",
       "</table>\n",
       "</div>"
      ],
      "text/plain": [
       "   age  workclass  fnlwgt     education  educational-num      marital-status  \\\n",
       "0   25    Private  226802          11th                7       Never-married   \n",
       "1   38    Private   89814       HS-grad                9  Married-civ-spouse   \n",
       "2   28  Local-gov  336951    Assoc-acdm               12  Married-civ-spouse   \n",
       "3   44    Private  160323  Some-college               10  Married-civ-spouse   \n",
       "4   18          ?  103497  Some-college               10       Never-married   \n",
       "\n",
       "          occupation relationship   race  gender  capital-gain  capital-loss  \\\n",
       "0  Machine-op-inspct    Own-child  Black    Male             0             0   \n",
       "1    Farming-fishing      Husband  White    Male             0             0   \n",
       "2    Protective-serv      Husband  White    Male             0             0   \n",
       "3  Machine-op-inspct      Husband  Black    Male          7688             0   \n",
       "4                  ?    Own-child  White  Female             0             0   \n",
       "\n",
       "   hours-per-week native-country income  \n",
       "0              40  United-States  <=50K  \n",
       "1              50  United-States  <=50K  \n",
       "2              40  United-States   >50K  \n",
       "3              40  United-States   >50K  \n",
       "4              30  United-States  <=50K  "
      ]
     },
     "execution_count": 2,
     "metadata": {},
     "output_type": "execute_result"
    }
   ],
   "source": [
    "df_revenus = pd.read_csv('files/revenus.csv')\n",
    "df_revenus.head()"
   ]
  },
  {
   "cell_type": "markdown",
   "metadata": {},
   "source": [
    "## DATA_V1"
   ]
  },
  {
   "cell_type": "markdown",
   "metadata": {},
   "source": [
    "Le jeu de données data_V1 sera utilisée lors du premier cycle. Il est constitué du jeu de données revenus pour lequel nous avons supprimé les colonnes inutiles à la construction de nos modèles, soit fnlwgt et educational-num, et recodé ou regroupé les valeurs manquantes \"?\"."
   ]
  },
  {
   "cell_type": "code",
   "execution_count": 3,
   "metadata": {},
   "outputs": [],
   "source": [
    "def drop_columns(df):\n",
    "    \"\"\"\n",
    "    Drop les colonnes fnlwgt, educational-nul car inutiles\n",
    "    \"\"\"\n",
    "    df = df.drop([\"fnlwgt\", \"educational-num\"], axis=1)\n",
    "    return df"
   ]
  },
  {
   "cell_type": "code",
   "execution_count": 4,
   "metadata": {},
   "outputs": [],
   "source": [
    "def regroupement_V1(df):\n",
    "    \"\"\"\n",
    "    Applique les recodages :\n",
    "    workclass : ? recodé en No_income_or_unknown\n",
    "    native-country : ? recodé en Other_country\n",
    "    occupation : ? regroupé avec la variable Other-service\n",
    "    \"\"\"\n",
    "    # Regroupement des ? dans No_income_or_unknown\n",
    "    df['workclass'] = df['workclass'].replace(\n",
    "        {'\\?' : 'No_income_or_unknown'}, regex=True)\n",
    "    \n",
    "    # Regroupement des ? dans Other_country\n",
    "    df['native-country'] = df['native-country'].replace(\n",
    "        {'\\?': 'Other_country'}, regex=True)\n",
    "    \n",
    "    # Remplacement des ? dans Other-service \n",
    "    df['occupation'] = df['occupation'].replace(\n",
    "        {'\\?' : 'Other-service'}, regex=True)\n",
    "    \n",
    "    return df"
   ]
  },
  {
   "cell_type": "code",
   "execution_count": 5,
   "metadata": {},
   "outputs": [],
   "source": [
    "df_V1 = drop_columns(df_revenus)\n",
    "df_V1 = regroupement_V1(df_V1)\n",
    "df_V1.to_csv('files/data/data_V1.csv', index=False)"
   ]
  },
  {
   "cell_type": "markdown",
   "metadata": {},
   "source": [
    "## DATA_V2"
   ]
  },
  {
   "cell_type": "markdown",
   "metadata": {},
   "source": [
    "Le jeu de données data_V2 sera utilsé lors du deuxième cycle. Ce fichier comporte les mêmes regroupements des valeurs manquantes que dans le premier cycle, nous y ajoutons des regroupements pour les autres variables afin d'obtenir des modalités plus représentatives en nombre d'invidivdus. Nous y appliquons enfin des classes optimisisées pour les variables quantitatives $\\textbf{age}$ et $\\textbf{hours-per-week}$."
   ]
  },
  {
   "cell_type": "code",
   "execution_count": 6,
   "metadata": {},
   "outputs": [],
   "source": [
    "def apply_opti_classes(df):\n",
    "    \"\"\"\n",
    "    Applique les classes optimisées générées par le fichier optimisation_classes.py\n",
    "    \"\"\"\n",
    "    serie_age = pd.read_csv('files/classes_opti/classes_opti_alexander_age.csv')\n",
    "    serie_hpw = pd.read_csv('files/classes_opti/classes_opti_alexander_hours-per-week.csv') \n",
    "    df_classes_opti = pd.concat([serie_age, serie_hpw], axis=1)\n",
    "    df.drop(['age', 'hours-per-week'], inplace=True, axis=1)\n",
    "    df_classes_opti.columns = ['age', 'hours-per-week']\n",
    "    df = pd.concat([df, df_classes_opti], axis=1)\n",
    "    return df"
   ]
  },
  {
   "cell_type": "code",
   "execution_count": 7,
   "metadata": {},
   "outputs": [],
   "source": [
    "def regroupement_V2(df):\n",
    "    \"\"\"\n",
    "    Applique les regroupements de variables du deuxième cycle\n",
    "    \"\"\"\n",
    "    # Regroupement des personnes d'ethnies autre que blanc et noir en \"Other_race\"\n",
    "    df['race'] = df['race'].replace(\n",
    "        {'Asian-Pac-Islander|Amer-Indian-Eskimo|Other': 'Other_race'}, regex=True)\n",
    "\n",
    "    # Regroupement des personnes d'origines différentes en une cartégorie \"Other\"\n",
    "    df['native-country'] = df['native-country'].replace(\n",
    "        {'^(?!United-States$).+': 'Other_country'}, regex=True)\n",
    "\n",
    "    # Regroupement des personnes mariés mais avec un conjoint dans l'armé avec les personnes mariés mais avec un conjoint absent pour diverse raisons\n",
    "    df['marital-status'] = df['marital-status'].replace(\n",
    "        {'Married-AF-spouse|Divorced|Widowed|Separated|Married-spouse-absent': 'Alone'}, regex = True)\n",
    "\n",
    "    df['education'] = df['education'].replace(\n",
    "        {'Preschool|1st-4th|5th-6th|7th-8th|9th|10th|11th|12th': 'Low-education',\n",
    "        'Doctorate|Prof-school': \"Graduation\",\n",
    "        \"Assoc-acdm|Assoc-voc\" : 'Assoc'}, regex=True)\n",
    "\n",
    "    df['workclass'] = df['workclass'].replace(\n",
    "        {'Local-gov|State-gov': 'State-Local-gov',\n",
    "         'Never-worked|Without-pay|\\?' : 'No_income_or_unknown'}, regex=True)\n",
    "\n",
    "    df['occupation'] = df['occupation'].replace(\n",
    "        {'\\?|Priv-house-serv|Other-service|Handlers-cleaners': 'Occupation:Very-Low-income',\n",
    "        'Farming-fishing|Machine-op-inspct|Adm-clerical': \"Occupation:Low-income\",\n",
    "        'Transport-moving|Craft-repair' : 'Occupation:Mid-income',\n",
    "        'Sales|Armed-Forces|Tech-support|Protective-serv|Protective-serv' :'Occupation:High-income',\n",
    "        'Prof-specialty|Exec-managerial' : 'Occupation:Very-High-income'}, regex=True)\n",
    "    \n",
    "    return df"
   ]
  },
  {
   "cell_type": "code",
   "execution_count": 8,
   "metadata": {},
   "outputs": [],
   "source": [
    "df_V2 = drop_columns(df_revenus)\n",
    "df_V2 = apply_opti_classes(df_V2)\n",
    "df_V2 = regroupement_V2(df_V2)\n",
    "df_V2.to_csv('files/data/data_V2.csv', index=False)"
   ]
  }
 ],
 "metadata": {
  "kernelspec": {
   "display_name": "venv",
   "language": "python",
   "name": "python3"
  },
  "language_info": {
   "codemirror_mode": {
    "name": "ipython",
    "version": 3
   },
   "file_extension": ".py",
   "mimetype": "text/x-python",
   "name": "python",
   "nbconvert_exporter": "python",
   "pygments_lexer": "ipython3",
   "version": "3.9.19"
  }
 },
 "nbformat": 4,
 "nbformat_minor": 2
}
