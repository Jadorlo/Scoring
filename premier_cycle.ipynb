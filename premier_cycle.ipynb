{
 "cells": [
  {
   "cell_type": "markdown",
   "metadata": {},
   "source": [
    "# PREMIER CYCLE"
   ]
  },
  {
   "cell_type": "code",
   "execution_count": 96,
   "metadata": {},
   "outputs": [],
   "source": [
    "import pandas as pd\n",
    "from sklearn.linear_model import LogisticRegression\n",
    "from sklearn.model_selection import train_test_split, GridSearchCV\n",
    "from sklearn import tree\n",
    "from sklearn.metrics import confusion_matrix, classification_report, auc, roc_curve, matthews_corrcoef\n",
    "import numpy as np\n",
    "from datetime import datetime\n",
    "import matplotlib.pyplot as plt\n",
    "import scipy.stats as stat"
   ]
  },
  {
   "cell_type": "markdown",
   "metadata": {},
   "source": [
    "Dans ce premier cycle, nous utiliserons le fichier de données data_V1.csv, soit celui pour lequel les valeurs manquantes \"?\" ont été recodées ou regroupées avec d'autres modalités."
   ]
  },
  {
   "cell_type": "markdown",
   "metadata": {},
   "source": [
    "Nous allons dans un premier temps définir les fonctions que nous utiliserons ensuite pour créer les modèles Logit et Arbre de décision (l'entièreté du code dans models.py):\n",
    "\n",
    "    - Create_Train_Test : crée les jeu d'entraînement et de test en dummies\n",
    "    - Drop_References_Variables : retire les modalités de référence (uniquement pour le Logit).\n",
    "    - Logistic_Regression : crée et entraine le model Logit sur les données d'entraînement.\n",
    "    - DecisionTree : crée et entraine le model Arbre de décision sur les données d'entraînement.\n",
    "    - ROC : Calcule et affiche la courbe en ROC et retourne l'AUC de cette courbe ROC.\n",
    "    - gAUC : Calcule le gAUC pour une variable qualitative passée en argument.\n",
    "    - Evaluation : Évalue les modèles en calculant les métriques de qualités\n",
    "    - Scoring : Donne un score de qualité aux modèles en fonction des valeurs cibles des métriques de qualité."
   ]
  },
  {
   "cell_type": "code",
   "execution_count": 97,
   "metadata": {},
   "outputs": [],
   "source": [
    "def Create_Train_Test(df):\n",
    "    \"\"\"\n",
    "    Créer les dataframes de test et d'entraînement \n",
    "    \"\"\"\n",
    "    y = df.pop('income')\n",
    "    y = pd.get_dummies(y)['>50K']\n",
    "    X = pd.get_dummies(df)\n",
    "    X_train, X_test, y_train, y_test = train_test_split(X, y, test_size = 0.2, random_state=0, stratify=y)\n",
    "\n",
    "    return X_train, X_test, y_train, y_test"
   ]
  },
  {
   "cell_type": "code",
   "execution_count": 98,
   "metadata": {},
   "outputs": [],
   "source": [
    "def Drop_References_Variables(X_train, X_test, vars):\n",
    "    \"\"\"\n",
    "    Drop les variables de référence pour le modèle Logit\n",
    "    \"\"\"\n",
    "    refs_vars = X_train[vars].copy()\n",
    "    X_train.drop(vars, axis=1, inplace=True)\n",
    "    X_test.drop(vars, axis=1, inplace=True)\n",
    "\n",
    "    return refs_vars, X_train, X_test"
   ]
  },
  {
   "cell_type": "code",
   "execution_count": 99,
   "metadata": {},
   "outputs": [],
   "source": [
    "def Logistic_Regression(X_train, y_train):\n",
    "    \"\"\"\n",
    "    Crée le Logit et l'entraîne grâce aux datasets d'entraînement\n",
    "    \"\"\"\n",
    "    model = LogisticRegression(random_state = 42).fit(X_train, y_train)\n",
    "\n",
    "    return model\n",
    "\n",
    "def DecisionTree(X_train, y_train):\n",
    "    \"\"\"\n",
    "    Créer l'arbre de décision et l'entraîne grâce aux datasets d'entraînement\n",
    "    \"\"\"\n",
    "    model = tree.DecisionTreeClassifier(random_state = 42).fit(X_train, y_train)\n",
    "\n",
    "    return model"
   ]
  },
  {
   "cell_type": "code",
   "execution_count": 100,
   "metadata": {},
   "outputs": [],
   "source": [
    "def ROC(model, X_test, y_test):\n",
    "    \"\"\"\n",
    "    Calcule la courbe ROC du modèle et retourne l'AUC\n",
    "    \"\"\"\n",
    "    FER, TER, threshold = roc_curve(y_test, model.predict_proba(X_test)[:,1])\n",
    "    AUC = auc(FER,TER)\n",
    "\n",
    "    ### ROC ####\n",
    "    plt.figure()\n",
    "    plt.plot(FER, TER)\n",
    "    plt.annotate(f'AUC:{round(AUC, 3)}', (0.7,0.3))\n",
    "    plt.title('Courbe ROC et AUC')\n",
    "    plt.grid()\n",
    "    plt.show()\n",
    "    \n",
    "    return AUC"
   ]
  },
  {
   "cell_type": "code",
   "execution_count": 101,
   "metadata": {},
   "outputs": [],
   "source": [
    "def gAUC(model, X_test, y_test, var):\n",
    "    \"\"\"\n",
    "    Calcule le gAUC pour une variable qualitative passée en argument\n",
    "    \"\"\"\n",
    "    X_test.reset_index(inplace=True, drop=True)\n",
    "    y_test.reset_index(inplace=True, drop=True)\n",
    "    df_var = X_test.filter(regex=f\"^{var}\")\n",
    "    \n",
    "    auc_liste = []\n",
    "\n",
    "    for col in df_var:\n",
    "        X_auc = X_test.loc[df_var[col]==True]\n",
    "        y_auc = y_test.iloc[X_auc.index]\n",
    "        if len(y_auc.unique())!=2:\n",
    "            continue\n",
    "        else :\n",
    "            y_prob = model.predict_proba(X_auc)[:,1]\n",
    "\n",
    "            col_FER, col_TER, threshold = roc_curve(y_auc, y_prob)\n",
    "            AUC = auc(col_FER,col_TER)\n",
    "            auc_liste.append(AUC)\n",
    "    gAUC = np.mean(auc_liste)\n",
    "    return gAUC"
   ]
  },
  {
   "cell_type": "code",
   "execution_count": null,
   "metadata": {},
   "outputs": [],
   "source": [
    "def Evaluation(model, X_test, y_test, isLogit):\n",
    "    \"\"\"\n",
    "    Affiche les résultats du modèle avec les datasets de test\n",
    "    Différenciation entre Logit et arbre de décision\n",
    "    \"\"\"\n",
    "    predict_Y = model.predict(X_test)\n",
    "    names = model.feature_names_in_\n",
    "    if isLogit:\n",
    "        print('Intercept', model.intercept_)\n",
    "        df_coefficents = pd.DataFrame({'Variables':names,\n",
    "                                    'Coefficients':model.coef_[0],\n",
    "                                    'Odd-Ratios':np.exp(model.coef_[0])})\n",
    "        print(df_coefficents.sort_values(by=\"Odd-Ratios\", ascending=False)[:10].to_string())\n",
    "    else:\n",
    "        df_importance = pd.DataFrame({'Variables':names,\n",
    "                                      'Importance':model.feature_importances_}).sort_values(by='Importance',\n",
    "                                                                                            ascending=False, ignore_index=True)\n",
    "        print(df_importance.loc[df_importance['Importance']!=0][:10].to_string())\n",
    "        tree.plot_tree(model, feature_names= list(X_test.columns), filled=True)\n",
    "        plt.show()\n",
    "    print('Matrice de confusion:')\n",
    "    print(confusion_matrix(y_test, predict_Y))\n",
    "    Accuracy = model.score(X_test,y_test)\n",
    "    class_report = classification_report(y_test, predict_Y, output_dict=True)\n",
    "    class_report = pd.DataFrame(class_report)\n",
    "    # print(class_report.to_string())\n",
    "    f1_score = class_report.loc['f1-score']['accuracy']\n",
    "    MCC = matthews_corrcoef(y_test, predict_Y)\n",
    "    AUC = ROC(model, X_test, y_test)\n",
    "\n",
    "    #Calcul du gAUC moyen\n",
    "    gAUC_liste = []\n",
    "    for var in df_V1.select_dtypes(include='object').columns:\n",
    "        gauc = gAUC(model, X_test, y_test, var)\n",
    "        gAUC_liste.append(gauc)\n",
    "    gauc = np.mean(gAUC_liste)\n",
    "\n",
    "    df_metrics = pd.DataFrame({'Valeur':[AUC, f1_score, Accuracy, MCC, gauc],\n",
    "                               'Cible':[0.8, 0.75, 0.85, 0.75, 0.8]},\n",
    "                               index = ['AUC', 'F1-Score', 'Accuracy', 'MCC', 'gAUC'])\n",
    "    return df_metrics"
   ]
  },
  {
   "cell_type": "code",
   "execution_count": 103,
   "metadata": {},
   "outputs": [],
   "source": [
    "def Scoring(df_metrics, isLogit):\n",
    "    \"\"\"\n",
    "    Calcul le score du modèle en fonction des métriques de df_metrics\n",
    "    \"\"\"\n",
    "    if isLogit:\n",
    "        model_name = 'Logit'\n",
    "    else:\n",
    "        model_name = 'Tree'\n",
    "\n",
    "    print(f\"#### SCORING {model_name.upper()} ####\")\n",
    "    print(df_metrics.to_string())\n",
    "    score = df_metrics.apply(lambda row : 1 if row['Valeur'] > row['Cible'] else 0, axis=1).sum()\n",
    "    print(f'Score du {model_name}:', score)\n",
    "    return df_metrics, score"
   ]
  },
  {
   "cell_type": "markdown",
   "metadata": {},
   "source": [
    "Nous pouvons désormais construire le modèle de régression logistique à partir des fonctions définies."
   ]
  },
  {
   "cell_type": "code",
   "execution_count": 104,
   "metadata": {},
   "outputs": [
    {
     "name": "stderr",
     "output_type": "stream",
     "text": [
      "/Users/alexanderlunel/Documents/LILLE/Master/MasterSIAD/M2/Scoring/Etude de cas/venv/lib/python3.9/site-packages/sklearn/linear_model/_logistic.py:469: ConvergenceWarning: lbfgs failed to converge (status=1):\n",
      "STOP: TOTAL NO. of ITERATIONS REACHED LIMIT.\n",
      "\n",
      "Increase the number of iterations (max_iter) or scale the data as shown in:\n",
      "    https://scikit-learn.org/stable/modules/preprocessing.html\n",
      "Please also refer to the documentation for alternative solver options:\n",
      "    https://scikit-learn.org/stable/modules/linear_model.html#logistic-regression\n",
      "  n_iter_i = _check_optimize_result(\n"
     ]
    },
    {
     "name": "stdout",
     "output_type": "stream",
     "text": [
      "Intercept [-0.79540434]\n",
      "                            Variables  Coefficients  Odd-Ratios\n",
      "31  marital-status_Married-civ-spouse      0.764558    2.148046\n",
      "39         occupation_Exec-managerial      0.619385    1.857785\n",
      "45          occupation_Prof-specialty      0.569795    1.767905\n",
      "22                education_Bachelors      0.535549    1.708386\n",
      "55                  relationship_Wife      0.408135    1.504010\n",
      "25                  education_Masters      0.388089    1.474161\n",
      "50               relationship_Husband      0.386735    1.472166\n",
      "27              education_Prof-school      0.180931    1.198333\n",
      "9              workclass_Self-emp-inc      0.148085    1.159611\n",
      "23                education_Doctorate      0.143097    1.153842\n",
      "Matrice de confusion:\n",
      "[[6958  473]\n",
      " [1085 1253]]\n"
     ]
    },
    {
     "data": {
      "image/png": "[encoded data removed]",
      "text/plain": [
       "<Figure size 640x480 with 1 Axes>"
      ]
     },
     "metadata": {},
     "output_type": "display_data"
    },
    {
     "name": "stdout",
     "output_type": "stream",
     "text": [
      "#### SCORING LOGIT ####\n",
      "            Valeur  Cible\n",
      "AUC       0.880442   0.80\n",
      "F1-Score  0.840516   0.75\n",
      "Accuracy  0.840516   0.85\n",
      "MCC       0.528338   0.75\n",
      "gAUC      0.844628   0.80\n",
      "Score du Logit: 3\n"
     ]
    }
   ],
   "source": [
    "#####  LOGIT   #####\n",
    "df_V1 = pd.read_csv('files/data/data_V1.csv')\n",
    "X_train, X_test, y_train, y_test = Create_Train_Test(df_V1)\n",
    "model_logit = Logistic_Regression(X_train, y_train)\n",
    "df_metrics_logit = Evaluation(model_logit, X_test, y_test, True)\n",
    "df_metrics_logit, score = Scoring(df_metrics_logit, True)"
   ]
  },
  {
   "cell_type": "markdown",
   "metadata": {},
   "source": [
    "Nous construisons l'Arbre de décision."
   ]
  },
  {
   "cell_type": "code",
   "execution_count": null,
   "metadata": {},
   "outputs": [
    {
     "name": "stdout",
     "output_type": "stream",
     "text": [
      "                            Variables  Importance\n",
      "0   marital-status_Married-civ-spouse    0.217490\n",
      "1                                 age    0.169260\n",
      "2                        capital-gain    0.134414\n",
      "3                      hours-per-week    0.097180\n",
      "4                        capital-loss    0.062174\n",
      "..                                ...         ...\n",
      "94                native-country_Laos    0.000071\n",
      "95  native-country_Dominican-Republic    0.000053\n",
      "96           native-country_Nicaragua    0.000039\n",
      "97              workclass_Without-pay    0.000028\n",
      "98         occupation_Priv-house-serv    0.000021\n",
      "\n",
      "[99 rows x 2 columns]\n"
     ]
    }
   ],
   "source": [
    "#####  ARBRE DE DÉCISION   #####\n",
    "df_V1 = pd.read_csv('files/data/data_V1.csv')\n",
    "X_train, X_test, y_train, y_test = Create_Train_Test(df_V1)\n",
    "model_decision_tree = DecisionTree(X_train, y_train)\n",
    "df_metrics_tree = Evaluation(model_decision_tree, X_test, y_test, False)\n",
    "df_metrics_tree, score = Scoring(df_metrics_tree, False)"
   ]
  }
 ],
 "metadata": {
  "kernelspec": {
   "display_name": "venv",
   "language": "python",
   "name": "python3"
  },
  "language_info": {
   "codemirror_mode": {
    "name": "ipython",
    "version": 3
   },
   "file_extension": ".py",
   "mimetype": "text/x-python",
   "name": "python",
   "nbconvert_exporter": "python",
   "pygments_lexer": "ipython3",
   "version": "3.9.19"
  }
 },
 "nbformat": 4,
 "nbformat_minor": 2
}
