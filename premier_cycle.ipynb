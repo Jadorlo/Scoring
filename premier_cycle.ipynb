{
 "cells": [
  {
   "cell_type": "markdown",
   "metadata": {},
   "source": [
    "# PREMIER CYCLE"
   ]
  },
  {
   "cell_type": "markdown",
   "metadata": {},
   "source": [
    "Dans ce premier cycle, nous utiliserons le fichier de données data_V1.csv, soit celui pour lequel les valeurs manquantes \"?\" ont été recodées ou regroupées avec d'autres modalités."
   ]
  }
 ],
 "metadata": {
  "language_info": {
   "name": "python"
  }
 },
 "nbformat": 4,
 "nbformat_minor": 2
}
