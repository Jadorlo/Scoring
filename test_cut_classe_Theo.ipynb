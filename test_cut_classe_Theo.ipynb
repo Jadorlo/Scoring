{
 "cells": [
  {
   "cell_type": "markdown",
   "metadata": {},
   "source": [
    "# Test code markdown"
   ]
  },
  {
   "cell_type": "code",
   "execution_count": 350,
   "metadata": {},
   "outputs": [],
   "source": [
    "import pandas as pd\n",
    "import numpy as np\n",
    "import math\n",
    "import matplotlib.pyplot as plt\n",
    "import seaborn as sns\n",
    "import random"
   ]
  },
  {
   "cell_type": "code",
   "execution_count": 351,
   "metadata": {},
   "outputs": [
    {
     "data": {
      "text/plain": [
       "0        17\n",
       "1        17\n",
       "2        17\n",
       "3        17\n",
       "4        17\n",
       "         ..\n",
       "45217    90\n",
       "45218    90\n",
       "45219    90\n",
       "45220    90\n",
       "45221    90\n",
       "Name: age, Length: 45222, dtype: int64"
      ]
     },
     "execution_count": 351,
     "metadata": {},
     "output_type": "execute_result"
    }
   ],
   "source": [
    "df = pd.read_csv(r'files\\clean.csv')\n",
    "\n",
    "# Garder que les variables quanti\n",
    "variables_quali = ['workclass', 'education', 'marital-status', 'occupation', 'relationship', 'race', 'gender', 'native-country','income']\n",
    "df = df.drop(columns= variables_quali)\n",
    "\n",
    "# Isolation d'une variable, l'age dans notre cas pour faire les tests\n",
    "serie = df['age']\n",
    "\n",
    "# On ordonne la série dans l'ordre croissant et reinitialiser les index\n",
    "serie = serie.sort_values()\n",
    "serie = s_sorted.reset_index(drop=True)\n",
    "serie"
   ]
  },
  {
   "cell_type": "code",
   "execution_count": 352,
   "metadata": {},
   "outputs": [],
   "source": [
    "#Tire une clef de repartition aleatoire de % d'individus dans les classes\n",
    "def clef_repartition_random(nb_classe):\n",
    "    clef_repartition = [10] * nb_classe\n",
    "    somme_restant = 100 - sum(clef_repartition)\n",
    "\n",
    "    for i in range(nb_classe):\n",
    "        if somme_restant <= 0:\n",
    "            break\n",
    "        max_val = somme_restant + clef_repartition[i]\n",
    "        nouvelle_valeur = random.randint(10, max_val)\n",
    "        somme_restant -= (nouvelle_valeur - clef_repartition[i])\n",
    "        clef_repartition[i] = nouvelle_valeur\n",
    "    \n",
    "    clef_repartition[-1] += somme_restant\n",
    "    random.shuffle(clef_repartition)\n",
    "    \n",
    "    return clef_repartition"
   ]
  },
  {
   "cell_type": "code",
   "execution_count": 353,
   "metadata": {},
   "outputs": [],
   "source": [
    "# Donne la repartition des individus en fonction d'une clef de repartition et la taille de l'échantillion\n",
    "# Cette repartition est sous forme d'une liste donnant les index de bornes des différentes classes\n",
    "def repartition_individues(clef_repartition, taille_serie) :\n",
    "    repartition = [round(taille_serie * x / 100) for x in clef_repartition]\n",
    "\n",
    "    while sum(repartition) > taille_serie :\n",
    "        repartition[-1] -= 1\n",
    "    \n",
    "    while sum(repartition) < taille_serie :\n",
    "        repartition[-1] += 1\n",
    "\n",
    "    cumulative_repartition = [sum(repartition[:i+1]) for i in range(len(repartition))]\n",
    "    return cumulative_repartition"
   ]
  },
  {
   "cell_type": "code",
   "execution_count": 354,
   "metadata": {},
   "outputs": [
    {
     "name": "stdout",
     "output_type": "stream",
     "text": [
      "[7688, 25325, 29847, 34821, 45222]\n",
      "[25, 39, 43, 48, 90]\n"
     ]
    }
   ],
   "source": [
    "n_classe = 5\n",
    "clef_repartition = clef_repartition_random(n_classe)\n",
    "repartition_individu = repartition_individues(clef_repartition,len(serie))\n",
    "print(repartition_individu)\n",
    "\n",
    "valeurs = serie.iloc[[i - 1 for i in repartition_individu]].tolist()\n",
    "print(valeurs)\n"
   ]
  }
 ],
 "metadata": {
  "kernelspec": {
   "display_name": "base",
   "language": "python",
   "name": "python3"
  },
  "language_info": {
   "codemirror_mode": {
    "name": "ipython",
    "version": 3
   },
   "file_extension": ".py",
   "mimetype": "text/x-python",
   "name": "python",
   "nbconvert_exporter": "python",
   "pygments_lexer": "ipython3",
   "version": "3.10.9"
  }
 },
 "nbformat": 4,
 "nbformat_minor": 2
}
