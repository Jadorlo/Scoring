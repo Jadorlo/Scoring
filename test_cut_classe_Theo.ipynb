{
 "cells": [
  {
   "cell_type": "markdown",
   "metadata": {},
   "source": [
    "### Bibliothèques"
   ]
  },
  {
   "cell_type": "code",
   "execution_count": 63,
   "metadata": {},
   "outputs": [],
   "source": [
    "import pandas as pd\n",
    "import numpy as np\n",
    "import random"
   ]
  },
  {
   "cell_type": "markdown",
   "metadata": {},
   "source": [
    "## FONCTIONS"
   ]
  },
  {
   "cell_type": "markdown",
   "metadata": {},
   "source": [
    "### Fonction de Création d'une Clef de Répartition"
   ]
  },
  {
   "cell_type": "code",
   "execution_count": 64,
   "metadata": {},
   "outputs": [],
   "source": [
    "# Tire une clef de repartition (en %) de manière aleatoire en fonction du nombre de classe voulue et d'une valeur planché de % de classe\n",
    "# !!!! UN NOMBRE DE CLASSES TROP GRAND PEUT ETRE PARADOXAL AVEC LA VALEUR PLANCHé !!!! \n",
    "# Exemple : 10 classes avec une valeur planché est de 15% -> 15%*10 = 150% donc impossible\n",
    "def clef_repartition_random(nb_classe,v_planche):\n",
    "    clef_repartition = [v_planche] * nb_classe\n",
    "    somme_restant = 100 - sum(clef_repartition)\n",
    "\n",
    "    for i in range(nb_classe):\n",
    "        if somme_restant <= 0:\n",
    "            break\n",
    "        max_val = somme_restant + clef_repartition[i]\n",
    "        nouvelle_valeur = random.randint(v_planche, max_val)\n",
    "        somme_restant -= (nouvelle_valeur - clef_repartition[i])\n",
    "        clef_repartition[i] = nouvelle_valeur\n",
    "    \n",
    "    clef_repartition[-1] += somme_restant\n",
    "    random.shuffle(clef_repartition)\n",
    "    \n",
    "    return clef_repartition"
   ]
  },
  {
   "cell_type": "markdown",
   "metadata": {},
   "source": [
    "### Fonction de Répartition Cumulative des Valeurs"
   ]
  },
  {
   "cell_type": "code",
   "execution_count": 65,
   "metadata": {},
   "outputs": [],
   "source": [
    "# Donne la repartition des individus en fonction d'une clef de repartition et la taille de l'échantillion\n",
    "# Cette repartition est sous forme d'une liste donnant les index de bornes des différentes classes\n",
    "def repartition_cumulative(clef_repartition, taille_serie) :\n",
    "    repartition = [round(taille_serie * x / 100) for x in clef_repartition]\n",
    "\n",
    "    # Avec les valeurs arrondies, on peut se retrouver avec des différences de +-1, on rectifie le resultat de manière arbitraire\n",
    "    while sum(repartition) > taille_serie :\n",
    "        repartition[-1] -= 1\n",
    "    \n",
    "    while sum(repartition) < taille_serie :\n",
    "        repartition[-1] += 1\n",
    "\n",
    "    cumulative_repartition = [sum(repartition[:i+1]) for i in range(len(repartition))]\n",
    "    return cumulative_repartition"
   ]
  },
  {
   "cell_type": "markdown",
   "metadata": {},
   "source": [
    "### Fonction donnant l'Encadrement des Classes"
   ]
  },
  {
   "cell_type": "code",
   "execution_count": 66,
   "metadata": {},
   "outputs": [],
   "source": [
    "# Donne une liste avec les valeurs des encadements en fonction de la repartition cumulative et des valeurs de la serie\n",
    "def encadrements_classe(repartition_cumulative, serie) :\n",
    "    valeur = serie.iloc[[i - 1 for i in repartition_cumulative]].tolist()\n",
    "    valeur = [min(serie)]+ valeur \n",
    "    return valeur"
   ]
  },
  {
   "cell_type": "markdown",
   "metadata": {},
   "source": [
    "### Fonction de Subsitution des Valeurs de la Serie"
   ]
  },
  {
   "cell_type": "code",
   "execution_count": 67,
   "metadata": {},
   "outputs": [],
   "source": [
    "# Remplace les valeurs quantitatives d'une serie par des classes selon un encadrement donné dans une liste\n",
    "# Pas parfaitement optimisé car il transforme toute la série puis revient pour complter les NaN a cause de la valeur maximum qui n'est pas prit en compte cause de la borne exclue \n",
    "\n",
    "def substitutions_valeurs1(serie, bins):\n",
    "    # Création des labels en fonction des intervalles\n",
    "    labels = [f\"[{bins[i]};{bins[i+1]}[\" for i in range(len(bins)-2)]\n",
    "    # Dernier intervalle inclut la borne droite\n",
    "    labels.append(f\"[{bins[-2]};{bins[-1]}]\")  \n",
    "    \n",
    "    # pd.cut pour classer les valeurs dans les intervalles\n",
    "    classes = pd.cut(serie, bins=bins, labels=labels, right=False)\n",
    "    # Complete les valeurs manquantes (maximum de la serie) par la derniere borne\n",
    "    classes = classes.fillna(f\"[{bins[-2]};{bins[-1]}]\")\n",
    "    return classes"
   ]
  },
  {
   "cell_type": "markdown",
   "metadata": {},
   "source": [
    "## Test :"
   ]
  },
  {
   "cell_type": "code",
   "execution_count": 68,
   "metadata": {},
   "outputs": [],
   "source": [
    "df = pd.read_csv(r'files\\clean.csv')\n",
    "\n",
    "# Garde que les variables quanti\n",
    "variables_quali = ['workclass', 'education', 'marital-status', 'occupation', 'relationship', 'race', 'gender', 'native-country','income']\n",
    "df = df.drop(columns= variables_quali)\n",
    "\n",
    "# Isolation de la variable age pour faire les tests\n",
    "serie = df['age']\n",
    "\n",
    "# Ordonne la série dans l'ordre croissant et reinitialiser les index\n",
    "serie = serie.sort_values()\n",
    "serie = serie.reset_index(drop=True)"
   ]
  },
  {
   "cell_type": "code",
   "execution_count": 69,
   "metadata": {},
   "outputs": [
    {
     "name": "stdout",
     "output_type": "stream",
     "text": [
      "[10, 10, 57, 10, 13]\n",
      "[4522, 9044, 34821, 39343, 45222]\n",
      "[17, 22, 26, 48, 54, 90]\n"
     ]
    }
   ],
   "source": [
    "# On choisi 5 classes et un minimum de 10%\n",
    "clef_repartition = clef_repartition_random(5,10)\n",
    "print(clef_repartition)\n",
    "\n",
    "repartition_cumulative = repartition_cumulative(clef_repartition,len(serie))\n",
    "print(repartition_cumulative)\n",
    "\n",
    "encadrement_classe = encadrements_classe(repartition_cumulative, serie)\n",
    "print(encadrement_classe)\n",
    "\n",
    "# Serie finale tout gucci\n",
    "serie_finale = substitutions_valeurs1(serie,encadrement_classe)\n",
    "\n",
    "# passe la série en fichier csv\n",
    "serie_finale.to_csv('classes_random_age_THEO.csv', index=False)\n",
    "\n",
    "# Met la serie original au coté de la serie finale pour vérifier les transformations effectuées\n",
    "# df_test_comparaison = pd.DataFrame({'age_1': serie_finale, 'age_2': serie})\n",
    "# df_test_comparaison.to_csv('classes_random_age_THEO.csv', index=False)\n"
   ]
  }
 ],
 "metadata": {
  "kernelspec": {
   "display_name": "base",
   "language": "python",
   "name": "python3"
  },
  "language_info": {
   "codemirror_mode": {
    "name": "ipython",
    "version": 3
   },
   "file_extension": ".py",
   "mimetype": "text/x-python",
   "name": "python",
   "nbconvert_exporter": "python",
   "pygments_lexer": "ipython3",
   "version": "3.10.9"
  }
 },
 "nbformat": 4,
 "nbformat_minor": 2
}
